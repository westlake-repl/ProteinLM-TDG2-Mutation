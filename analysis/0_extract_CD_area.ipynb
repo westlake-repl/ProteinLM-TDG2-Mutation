{
 "cells": [
  {
   "cell_type": "code",
   "execution_count": 1,
   "metadata": {},
   "outputs": [],
   "source": [
    "import pandas as pd\n",
    "import numpy as np"
   ]
  },
  {
   "cell_type": "code",
   "execution_count": 2,
   "metadata": {},
   "outputs": [
    {
     "data": {
      "text/html": [
       "<div>\n",
       "<style scoped>\n",
       "    .dataframe tbody tr th:only-of-type {\n",
       "        vertical-align: middle;\n",
       "    }\n",
       "\n",
       "    .dataframe tbody tr th {\n",
       "        vertical-align: top;\n",
       "    }\n",
       "\n",
       "    .dataframe thead th {\n",
       "        text-align: right;\n",
       "    }\n",
       "</style>\n",
       "<table border=\"1\" class=\"dataframe\">\n",
       "  <thead>\n",
       "    <tr style=\"text-align: right;\">\n",
       "      <th></th>\n",
       "      <th>comment</th>\n",
       "      <th>mut</th>\n",
       "      <th>sequence</th>\n",
       "      <th>fitness</th>\n",
       "    </tr>\n",
       "  </thead>\n",
       "  <tbody>\n",
       "    <tr>\n",
       "      <th>0</th>\n",
       "      <td>mutations: A147Y probability: 11.3856</td>\n",
       "      <td>A147Y</td>\n",
       "      <td>FFSPSPARKRHAPSPEPAVQGTGVAGVPEESGDAAAIPAKKAPAGQ...</td>\n",
       "      <td>11.385650</td>\n",
       "    </tr>\n",
       "    <tr>\n",
       "      <th>1</th>\n",
       "      <td>mutations: F1M probability: 3.9782</td>\n",
       "      <td>F1M</td>\n",
       "      <td>MFSPSPARKRHAPSPEPAVQGTGVAGVPEESGDAAAIPAKKAPAGQ...</td>\n",
       "      <td>3.978224</td>\n",
       "    </tr>\n",
       "    <tr>\n",
       "      <th>2</th>\n",
       "      <td>mutations: V274A probability: 3.6236</td>\n",
       "      <td>V274A</td>\n",
       "      <td>FFSPSPARKRHAPSPEPAVQGTGVAGVPEESGDAAAIPAKKAPAGQ...</td>\n",
       "      <td>3.623650</td>\n",
       "    </tr>\n",
       "    <tr>\n",
       "      <th>3</th>\n",
       "      <td>mutations: H92A probability: 3.2447</td>\n",
       "      <td>H92A</td>\n",
       "      <td>FFSPSPARKRHAPSPEPAVQGTGVAGVPEESGDAAAIPAKKAPAGQ...</td>\n",
       "      <td>3.244741</td>\n",
       "    </tr>\n",
       "    <tr>\n",
       "      <th>4</th>\n",
       "      <td>mutations: P43R probability: 2.7918</td>\n",
       "      <td>P43R</td>\n",
       "      <td>FFSPSPARKRHAPSPEPAVQGTGVAGVPEESGDAAAIPAKKARAGQ...</td>\n",
       "      <td>2.791762</td>\n",
       "    </tr>\n",
       "  </tbody>\n",
       "</table>\n",
       "</div>"
      ],
      "text/plain": [
       "                                 comment    mut  \\\n",
       "0  mutations: A147Y probability: 11.3856  A147Y   \n",
       "1     mutations: F1M probability: 3.9782    F1M   \n",
       "2   mutations: V274A probability: 3.6236  V274A   \n",
       "3    mutations: H92A probability: 3.2447   H92A   \n",
       "4    mutations: P43R probability: 2.7918   P43R   \n",
       "\n",
       "                                            sequence    fitness  \n",
       "0  FFSPSPARKRHAPSPEPAVQGTGVAGVPEESGDAAAIPAKKAPAGQ...  11.385650  \n",
       "1  MFSPSPARKRHAPSPEPAVQGTGVAGVPEESGDAAAIPAKKAPAGQ...   3.978224  \n",
       "2  FFSPSPARKRHAPSPEPAVQGTGVAGVPEESGDAAAIPAKKAPAGQ...   3.623650  \n",
       "3  FFSPSPARKRHAPSPEPAVQGTGVAGVPEESGDAAAIPAKKAPAGQ...   3.244741  \n",
       "4  FFSPSPARKRHAPSPEPAVQGTGVAGVPEESGDAAAIPAKKARAGQ...   2.791762  "
      ]
     },
     "execution_count": 2,
     "metadata": {},
     "output_type": "execute_result"
    }
   ],
   "source": [
    "# read TDG2 file\n",
    "TDG2_file = \"../data/TDG2/TDG2_mutate_one_allsites.csv\"\n",
    "TDG2_df = pd.read_csv(TDG2_file)\n",
    "TDG2_df.head()"
   ]
  },
  {
   "cell_type": "code",
   "execution_count": 7,
   "metadata": {},
   "outputs": [],
   "source": [
    "# CD area from 93 to 304, 1-based\n",
    "CD_area_sites = set(range(93, 305))"
   ]
  },
  {
   "cell_type": "code",
   "execution_count": 12,
   "metadata": {},
   "outputs": [
    {
     "data": {
      "text/html": [
       "<div>\n",
       "<style scoped>\n",
       "    .dataframe tbody tr th:only-of-type {\n",
       "        vertical-align: middle;\n",
       "    }\n",
       "\n",
       "    .dataframe tbody tr th {\n",
       "        vertical-align: top;\n",
       "    }\n",
       "\n",
       "    .dataframe thead th {\n",
       "        text-align: right;\n",
       "    }\n",
       "</style>\n",
       "<table border=\"1\" class=\"dataframe\">\n",
       "  <thead>\n",
       "    <tr style=\"text-align: right;\">\n",
       "      <th></th>\n",
       "      <th>comment</th>\n",
       "      <th>mut</th>\n",
       "      <th>sequence</th>\n",
       "      <th>fitness</th>\n",
       "    </tr>\n",
       "  </thead>\n",
       "  <tbody>\n",
       "    <tr>\n",
       "      <th>0</th>\n",
       "      <td>mutations: A147Y probability: 11.3856</td>\n",
       "      <td>A147Y</td>\n",
       "      <td>FFSPSPARKRHAPSPEPAVQGTGVAGVPEESGDAAAIPAKKAPAGQ...</td>\n",
       "      <td>11.385650</td>\n",
       "    </tr>\n",
       "    <tr>\n",
       "      <th>2</th>\n",
       "      <td>mutations: V274A probability: 3.6236</td>\n",
       "      <td>V274A</td>\n",
       "      <td>FFSPSPARKRHAPSPEPAVQGTGVAGVPEESGDAAAIPAKKAPAGQ...</td>\n",
       "      <td>3.623650</td>\n",
       "    </tr>\n",
       "    <tr>\n",
       "      <th>5</th>\n",
       "      <td>mutations: I103Q probability: 2.6124</td>\n",
       "      <td>I103Q</td>\n",
       "      <td>FFSPSPARKRHAPSPEPAVQGTGVAGVPEESGDAAAIPAKKAPAGQ...</td>\n",
       "      <td>2.612375</td>\n",
       "    </tr>\n",
       "    <tr>\n",
       "      <th>6</th>\n",
       "      <td>mutations: A147F probability: 2.3506</td>\n",
       "      <td>A147F</td>\n",
       "      <td>FFSPSPARKRHAPSPEPAVQGTGVAGVPEESGDAAAIPAKKAPAGQ...</td>\n",
       "      <td>2.350613</td>\n",
       "    </tr>\n",
       "    <tr>\n",
       "      <th>8</th>\n",
       "      <td>mutations: I103K probability: 2.0289</td>\n",
       "      <td>I103K</td>\n",
       "      <td>FFSPSPARKRHAPSPEPAVQGTGVAGVPEESGDAAAIPAKKAPAGQ...</td>\n",
       "      <td>2.028880</td>\n",
       "    </tr>\n",
       "  </tbody>\n",
       "</table>\n",
       "</div>"
      ],
      "text/plain": [
       "                                 comment    mut  \\\n",
       "0  mutations: A147Y probability: 11.3856  A147Y   \n",
       "2   mutations: V274A probability: 3.6236  V274A   \n",
       "5   mutations: I103Q probability: 2.6124  I103Q   \n",
       "6   mutations: A147F probability: 2.3506  A147F   \n",
       "8   mutations: I103K probability: 2.0289  I103K   \n",
       "\n",
       "                                            sequence    fitness  \n",
       "0  FFSPSPARKRHAPSPEPAVQGTGVAGVPEESGDAAAIPAKKAPAGQ...  11.385650  \n",
       "2  FFSPSPARKRHAPSPEPAVQGTGVAGVPEESGDAAAIPAKKAPAGQ...   3.623650  \n",
       "5  FFSPSPARKRHAPSPEPAVQGTGVAGVPEESGDAAAIPAKKAPAGQ...   2.612375  \n",
       "6  FFSPSPARKRHAPSPEPAVQGTGVAGVPEESGDAAAIPAKKAPAGQ...   2.350613  \n",
       "8  FFSPSPARKRHAPSPEPAVQGTGVAGVPEESGDAAAIPAKKAPAGQ...   2.028880  "
      ]
     },
     "execution_count": 12,
     "metadata": {},
     "output_type": "execute_result"
    }
   ],
   "source": [
    "# add CD area into new list\n",
    "TDG2_CD_df = []\n",
    "for idx, row in TDG2_df.iterrows():\n",
    "    mut = row[\"mut\"]\n",
    "    if mut != \"WT\" and int(mut[1:-1]) in CD_area_sites:\n",
    "        TDG2_CD_df.append(row)\n",
    "TDG2_CD_df = pd.DataFrame(TDG2_CD_df).sort_values(by=\"fitness\", ascending=False)\n",
    "TDG2_CD_df.head()"
   ]
  },
  {
   "cell_type": "code",
   "execution_count": 14,
   "metadata": {},
   "outputs": [],
   "source": [
    "TDG2_CD_save_path = \"../data/TDG2_CD/TDG2_CD.csv\"\n",
    "TDG2_CD_df.to_csv(TDG2_CD_save_path, index=False)"
   ]
  }
 ],
 "metadata": {
  "kernelspec": {
   "display_name": "mutations",
   "language": "python",
   "name": "python3"
  },
  "language_info": {
   "codemirror_mode": {
    "name": "ipython",
    "version": 3
   },
   "file_extension": ".py",
   "mimetype": "text/x-python",
   "name": "python",
   "nbconvert_exporter": "python",
   "pygments_lexer": "ipython3",
   "version": "3.9.13"
  },
  "orig_nbformat": 4
 },
 "nbformat": 4,
 "nbformat_minor": 2
}
