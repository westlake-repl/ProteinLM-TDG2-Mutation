{
 "cells": [
  {
   "cell_type": "code",
   "execution_count": 1,
   "metadata": {},
   "outputs": [],
   "source": [
    "import pandas as pd"
   ]
  },
  {
   "cell_type": "code",
   "execution_count": 3,
   "metadata": {},
   "outputs": [
    {
     "data": {
      "text/html": [
       "<div>\n",
       "<style scoped>\n",
       "    .dataframe tbody tr th:only-of-type {\n",
       "        vertical-align: middle;\n",
       "    }\n",
       "\n",
       "    .dataframe tbody tr th {\n",
       "        vertical-align: top;\n",
       "    }\n",
       "\n",
       "    .dataframe thead th {\n",
       "        text-align: right;\n",
       "    }\n",
       "</style>\n",
       "<table border=\"1\" class=\"dataframe\">\n",
       "  <thead>\n",
       "    <tr style=\"text-align: right;\">\n",
       "      <th></th>\n",
       "      <th>mut</th>\n",
       "      <th>sequence</th>\n",
       "      <th>fitness</th>\n",
       "    </tr>\n",
       "  </thead>\n",
       "  <tbody>\n",
       "    <tr>\n",
       "      <th>0</th>\n",
       "      <td>V274A</td>\n",
       "      <td>FFSPSPARKRHAPSPEPAVQGTGVAGVPEESGDAAAIPAKKAPAGQ...</td>\n",
       "      <td>3.623650</td>\n",
       "    </tr>\n",
       "    <tr>\n",
       "      <th>1</th>\n",
       "      <td>H92A</td>\n",
       "      <td>FFSPSPARKRHAPSPEPAVQGTGVAGVPEESGDAAAIPAKKAPAGQ...</td>\n",
       "      <td>3.244741</td>\n",
       "    </tr>\n",
       "    <tr>\n",
       "      <th>2</th>\n",
       "      <td>P43K</td>\n",
       "      <td>FFSPSPARKRHAPSPEPAVQGTGVAGVPEESGDAAAIPAKKAKAGQ...</td>\n",
       "      <td>2.265364</td>\n",
       "    </tr>\n",
       "    <tr>\n",
       "      <th>3</th>\n",
       "      <td>D183G</td>\n",
       "      <td>FFSPSPARKRHAPSPEPAVQGTGVAGVPEESGDAAAIPAKKAPAGQ...</td>\n",
       "      <td>1.957367</td>\n",
       "    </tr>\n",
       "    <tr>\n",
       "      <th>4</th>\n",
       "      <td>H11A</td>\n",
       "      <td>FFSPSPARKRAAPSPEPAVQGTGVAGVPEESGDAAAIPAKKAPAGQ...</td>\n",
       "      <td>1.188771</td>\n",
       "    </tr>\n",
       "  </tbody>\n",
       "</table>\n",
       "</div>"
      ],
      "text/plain": [
       "     mut                                           sequence   fitness\n",
       "0  V274A  FFSPSPARKRHAPSPEPAVQGTGVAGVPEESGDAAAIPAKKAPAGQ...  3.623650\n",
       "1   H92A  FFSPSPARKRHAPSPEPAVQGTGVAGVPEESGDAAAIPAKKAPAGQ...  3.244741\n",
       "2   P43K  FFSPSPARKRHAPSPEPAVQGTGVAGVPEESGDAAAIPAKKAKAGQ...  2.265364\n",
       "3  D183G  FFSPSPARKRHAPSPEPAVQGTGVAGVPEESGDAAAIPAKKAPAGQ...  1.957367\n",
       "4   H11A  FFSPSPARKRAAPSPEPAVQGTGVAGVPEESGDAAAIPAKKAPAGQ...  1.188771"
      ]
     },
     "execution_count": 3,
     "metadata": {},
     "output_type": "execute_result"
    }
   ],
   "source": [
    "singlesites_df = pd.read_excel('4_data/single_sites.xlsx')\n",
    "singlesites_df.head()"
   ]
  },
  {
   "cell_type": "code",
   "execution_count": 11,
   "metadata": {},
   "outputs": [
    {
     "data": {
      "text/html": [
       "<div>\n",
       "<style scoped>\n",
       "    .dataframe tbody tr th:only-of-type {\n",
       "        vertical-align: middle;\n",
       "    }\n",
       "\n",
       "    .dataframe tbody tr th {\n",
       "        vertical-align: top;\n",
       "    }\n",
       "\n",
       "    .dataframe thead th {\n",
       "        text-align: right;\n",
       "    }\n",
       "</style>\n",
       "<table border=\"1\" class=\"dataframe\">\n",
       "  <thead>\n",
       "    <tr style=\"text-align: right;\">\n",
       "      <th></th>\n",
       "      <th>mut1</th>\n",
       "      <th>mut2</th>\n",
       "      <th>fitness</th>\n",
       "    </tr>\n",
       "  </thead>\n",
       "  <tbody>\n",
       "    <tr>\n",
       "      <th>0</th>\n",
       "      <td>V274A</td>\n",
       "      <td>H92A</td>\n",
       "      <td>6.868391</td>\n",
       "    </tr>\n",
       "    <tr>\n",
       "      <th>1</th>\n",
       "      <td>V274A</td>\n",
       "      <td>P43K</td>\n",
       "      <td>5.889014</td>\n",
       "    </tr>\n",
       "    <tr>\n",
       "      <th>2</th>\n",
       "      <td>V274A</td>\n",
       "      <td>D183G</td>\n",
       "      <td>5.581017</td>\n",
       "    </tr>\n",
       "    <tr>\n",
       "      <th>28</th>\n",
       "      <td>H92A</td>\n",
       "      <td>P43K</td>\n",
       "      <td>5.510105</td>\n",
       "    </tr>\n",
       "    <tr>\n",
       "      <th>29</th>\n",
       "      <td>H92A</td>\n",
       "      <td>D183G</td>\n",
       "      <td>5.202109</td>\n",
       "    </tr>\n",
       "  </tbody>\n",
       "</table>\n",
       "</div>"
      ],
      "text/plain": [
       "     mut1   mut2   fitness\n",
       "0   V274A   H92A  6.868391\n",
       "1   V274A   P43K  5.889014\n",
       "2   V274A  D183G  5.581017\n",
       "28   H92A   P43K  5.510105\n",
       "29   H92A  D183G  5.202109"
      ]
     },
     "execution_count": 11,
     "metadata": {},
     "output_type": "execute_result"
    }
   ],
   "source": [
    "double_sites = []\n",
    "for idx, row in singlesites_df.iterrows():\n",
    "    for idx2, row2 in singlesites_df.iloc[idx+1:].iterrows():\n",
    "        fitness = row['fitness'] + row2['fitness']\n",
    "        double_sites.append([row['mut'], row2['mut'], fitness])\n",
    "double_sites_df = pd.DataFrame(double_sites, columns=['mut1', 'mut2', 'fitness']).sort_values(by='fitness', ascending=False)\n",
    "double_sites_df.head()"
   ]
  },
  {
   "cell_type": "code",
   "execution_count": 12,
   "metadata": {},
   "outputs": [],
   "source": [
    "double_sites_df.to_csv('4_data/double_sites.csv', index=False)"
   ]
  },
  {
   "cell_type": "code",
   "execution_count": null,
   "metadata": {},
   "outputs": [],
   "source": []
  }
 ],
 "metadata": {
  "kernelspec": {
   "display_name": "mutations",
   "language": "python",
   "name": "python3"
  },
  "language_info": {
   "codemirror_mode": {
    "name": "ipython",
    "version": 3
   },
   "file_extension": ".py",
   "mimetype": "text/x-python",
   "name": "python",
   "nbconvert_exporter": "python",
   "pygments_lexer": "ipython3",
   "version": "3.9.13"
  },
  "orig_nbformat": 4
 },
 "nbformat": 4,
 "nbformat_minor": 2
}
